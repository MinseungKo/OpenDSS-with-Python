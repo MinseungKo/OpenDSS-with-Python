{
 "cells": [
  {
   "cell_type": "code",
   "execution_count": 1,
   "id": "0c8a8fcb",
   "metadata": {},
   "outputs": [],
   "source": [
    "import opendssdirect as dss\n",
    "import os\n",
    "import pathlib\n",
    "import numpy as np\n",
    "import pandas as pd\n",
    "import random\n",
    "import sys\n",
    "from scipy.stats import *\n",
    "import matplotlib.pyplot as plt\n",
    "from mpl_toolkits.mplot3d import Axes3D\n",
    "import seaborn as sns\n",
    "import math\n",
    "from matplotlib.animation import FuncAnimation\n",
    "from celluloid import Camera"
   ]
  },
  {
   "cell_type": "code",
   "execution_count": 2,
   "id": "772ab317",
   "metadata": {},
   "outputs": [
    {
     "data": {
      "text/plain": [
       "''"
      ]
     },
     "execution_count": 2,
     "metadata": {},
     "output_type": "execute_result"
    }
   ],
   "source": [
    "dss.__version__\n",
    "dss.run_command('Redirect C:/Users/smartgrid_AI/Documents/kms/Hyundai/IEEE34BUSSYSTEM/ieee34Mod2.dss')\n",
    "dss.run_command(\"New Energymeter.M1  Line.L1  1\")"
   ]
  },
  {
   "cell_type": "code",
   "execution_count": 3,
   "id": "bc8f3fe1",
   "metadata": {},
   "outputs": [],
   "source": [
    "dss.Solution.Solve()\n",
    "Ymatrixori = dss.Circuit.SystemY()\n",
    "Ymatrix = np.array(Ymatrixori).reshape(138,-1)\n",
    "Gm = Ymatrix[:, 0::2]\n",
    "Bm = Ymatrix[:, 1::2]\n",
    "dss.run_command(\"export Voltages\")\n",
    "Vthetmatrix = pd.read_csv(\"ieee34-2_EXP_VOLTAGES.csv\", encoding='CP949', error_bad_lines=False)"
   ]
  },
  {
   "cell_type": "code",
   "execution_count": 4,
   "id": "25878767",
   "metadata": {},
   "outputs": [],
   "source": [
    "def VTextract(Vthetmatrix):\n",
    "    Vmat = np.zeros((Vthetmatrix.shape[0],3))\n",
    "    Tmat = np.zeros((Vthetmatrix.shape[0],3))\n",
    "    dis = np.zeros((Vthetmatrix.shape[0],3), dtype=int)\n",
    "    for i in range(Vthetmatrix.shape[0]):\n",
    "        for j in range(3):\n",
    "            Vmat[i,j] = Vthetmatrix.iloc[i,4*j+3]*np.sqrt(3)\n",
    "            Tmat[i,j] = Vthetmatrix.iloc[i,4*j+4]*np.pi/180\n",
    "            if Vmat[i,j]!=0:\n",
    "                dis[i,j]=1\n",
    "    Vm = np.zeros(np.sum(dis))\n",
    "    Tm = np.zeros(np.sum(dis))\n",
    "    ena = 0\n",
    "    for a in range(Vthetmatrix.shape[0]):\n",
    "        for b in range(3):\n",
    "            if dis[a,b]==1:\n",
    "                Vm[ena]=Vmat[a,b]\n",
    "                Tm[ena]=Tmat[a,b]\n",
    "                ena = ena+1             \n",
    "    return ena, Vm, Tm\n",
    "\n",
    "def Sensecalc(ena, Vm, Tm):\n",
    "    j1 = np.zeros((ena,ena))\n",
    "    j2 = np.zeros((ena,ena))\n",
    "    j3 = np.zeros((ena,ena))\n",
    "    j4 = np.zeros((ena,ena))\n",
    "\n",
    "    for a in range(ena):\n",
    "        for b in range(ena):\n",
    "            if a!=b:\n",
    "                j1[a,b]=Vm[a]*Vm[b]*(Gm[a,b]*np.sin(Tm[a]-Tm[b])-Bm[a,b]*np.cos(Tm[a]-Tm[b]))\n",
    "                j2[a,b]=Vm[a]*(Gm[a,b]*np.cos(Tm[a]-Tm[b])+Bm[a,b]*np.sin(Tm[a]-Tm[b]))\n",
    "                j3[a,b]=-Vm[a]*Vm[b]*(Gm[a,b]*np.cos(Tm[a]-Tm[b])+Bm[a,b]*np.sin(Tm[a]-Tm[b]))\n",
    "                j4[a,b]=Vm[a]*(Gm[a,b]*np.sin(Tm[a]-Tm[b])-Bm[a,b]*np.cos(Tm[a]-Tm[b]))\n",
    "            if a==b:\n",
    "                for c in range(ena):\n",
    "                    if c!=a:\n",
    "                        j1[a,b]=j1[a,b]-Vm[a]*Vm[c]*(Gm[a,c]*np.sin(Tm[a]-Tm[c])-Bm[a,c]*np.cos(Tm[a]-Tm[c]))\n",
    "                        j2[a,b]=j2[a,b]+Vm[c]*(Gm[a,c]*np.cos(Tm[a]-Tm[c])+Bm[a,c]*np.sin(Tm[a]-Tm[c]))\n",
    "                        j3[a,b]=j3[a,b]+Vm[a]*Vm[c]*(Gm[a,c]*np.cos(Tm[a]-Tm[c])+Bm[a,c]*np.sin(Tm[a]-Tm[c]))\n",
    "                        j4[a,b]=j4[a,b]+Vm[c]*(Gm[a,c]*np.sin(Tm[a]-Tm[c])-Bm[a,c]*np.cos(Tm[a]-Tm[c]))\n",
    "                    if c==a:\n",
    "                        j2[a,b]=j2[a,b]+2*Vm[a]*Gm[a,b]\n",
    "                        j4[a,b]=j4[a,b]-2*Vm[a]*Bm[a,b]                 \n",
    "            if a<3 and b<3:\n",
    "                j1[a,b]=0\n",
    "                j2[a,b]=0\n",
    "                j3[a,b]=0\n",
    "                j4[a,b]=0      \n",
    "\n",
    "    svq=np.linalg.inv(j4-np.matmul(j3,np.matmul(np.linalg.pinv(j1),j2)))\n",
    "    svp=np.linalg.inv(j2-np.matmul(j1,np.matmul(np.linalg.pinv(j3),j4)))\n",
    "    return svp, svq\n",
    "\n",
    "allnodename = dss.Circuit.AllNodeNames()\n",
    "allnode = np.array(allnodename)\n",
    "\n",
    "def PVsize(num_pv):\n",
    "    try:\n",
    "        pv_size = np.array(list(map(int, input('각 PV의 크기를 입력하세요: ').split())))\n",
    "        if pv_size.shape[0] != num_pv:\n",
    "            print(\"PV의 개수에 맞게 입력하세요\")\n",
    "            PVsize()\n",
    "    except:\n",
    "        print(\"정수형으로 크기를 입력하세요\")\n",
    "        PVsize()\n",
    "    return pv_size\n",
    "\n",
    "def USERPV():\n",
    "    try:\n",
    "        pv_list = list(map(int, input('PV 모선 번호를 입력하세요: ').split()))\n",
    "        pv_array = np.array(pv_list, dtype = int)\n",
    "        num_pv = pv_array.shape[0]\n",
    "        pv_busind = np.zeros(num_pv, dtype=int)\n",
    "        nodelist = []\n",
    "    \n",
    "        for i in range(num_pv):\n",
    "            for j in range(1,4):\n",
    "                try:\n",
    "                    x = np.where(allnode == str(pv_array[i])+'.'+str(j))[0][0]\n",
    "                    nodelist.append(x)\n",
    "                except:\n",
    "                    print(str(pv_array[i])+\"번 모선은 단상 모선입니다\")\n",
    "                    USERPV()\n",
    "    except:\n",
    "        print(\"PV 모선 번호가 잘못 입력되었습니다\")\n",
    "        USERPV()\n",
    "    pv_size = PVsize(num_pv)\n",
    "    return pv_array, num_pv, np.array(nodelist, dtype=int), pv_size\n",
    "\n",
    "def checkvoltage(Vm):\n",
    "    V2pu = np.array(Vm)\n",
    "    for i in range(len(V2pu)):\n",
    "        if V2pu[i]>60000:\n",
    "            V2pu[i] = Vm[i]/69000\n",
    "        elif V2pu[i]>20000:\n",
    "            V2pu[i] = Vm[i]/24900\n",
    "        else:\n",
    "            V2pu[i] = Vm[i]/4160\n",
    "\n",
    "    V2vio_u = (V2pu[3:]-uv>0)\n",
    "    V2vio_l = (V2pu[3:]-lv<0)\n",
    "    vio_node = V2vio_u+V2vio_l\n",
    "    return vio_node, V2pu"
   ]
  },
  {
   "cell_type": "code",
   "execution_count": 5,
   "id": "6824f3d2",
   "metadata": {},
   "outputs": [
    {
     "name": "stdin",
     "output_type": "stream",
     "text": [
      "PV 모선 번호를 입력하세요:  890 848 840 832 828\n",
      "각 PV의 크기를 입력하세요:  500 300 200 300 200\n"
     ]
    }
   ],
   "source": [
    "# Example values - PV Bus  890 848 840 832 828\n",
    "# Example values - PV Size 500 300 200 300 200 -> SUM: 1500 kW\n",
    "pv_array, num_pv, pvnodeind, pv_size = USERPV()"
   ]
  },
  {
   "cell_type": "code",
   "execution_count": 6,
   "id": "9b2861b0",
   "metadata": {},
   "outputs": [],
   "source": [
    "ena, Vm, Tm = VTextract(Vthetmatrix)\n",
    "Vmini = Vm\n",
    "svp, svq = Sensecalc(ena, Vm, Tm)"
   ]
  },
  {
   "cell_type": "code",
   "execution_count": 7,
   "id": "ec3a6fe6",
   "metadata": {},
   "outputs": [
    {
     "name": "stdout",
     "output_type": "stream",
     "text": [
      "New PVSystem.PV1 conn=Wye phases=3 bus=890 kV=4.16 irrad=1.0 Pmpp=500 temperature=25 kVA=500 WattPriority=True\n",
      "New PVSystem.PV2 conn=Wye phases=3 bus=848 kV=24.9 irrad=1.0 Pmpp=300 temperature=25 kVA=300 WattPriority=True\n",
      "New PVSystem.PV3 conn=Wye phases=3 bus=840 kV=24.9 irrad=1.0 Pmpp=200 temperature=25 kVA=200 WattPriority=True\n",
      "New PVSystem.PV4 conn=Wye phases=3 bus=832 kV=24.9 irrad=1.0 Pmpp=300 temperature=25 kVA=300 WattPriority=True\n",
      "New PVSystem.PV5 conn=Wye phases=3 bus=828 kV=24.9 irrad=1.0 Pmpp=200 temperature=25 kVA=200 WattPriority=True\n"
     ]
    }
   ],
   "source": [
    "for m in range(0,num_pv):\n",
    "    if pv_array[m]!=0:\n",
    "        if Vm[pvnodeind[3*m]]>50000:\n",
    "            basekV = 69\n",
    "        elif Vm[pvnodeind[3*m]]>15000:\n",
    "            basekV = 24.9\n",
    "        else:\n",
    "            basekV = 4.16\n",
    "        pv_kva_text=\"New PVSystem.PV\"+str(m+1)+\" conn=Wye phases=3 bus=\"+str(pv_array[m])+\" kV=\"+str(basekV)+\" irrad=1.0 Pmpp=\"+str(pv_size[m])+\" temperature=25 kVA=\"+str(pv_size[m])+\" WattPriority=True\"\n",
    "        print(pv_kva_text)\n",
    "        dss.run_command(pv_kva_text)"
   ]
  },
  {
   "cell_type": "code",
   "execution_count": 8,
   "id": "173e4b1a",
   "metadata": {},
   "outputs": [],
   "source": [
    "uv = 1.05\n",
    "lv = 0.92"
   ]
  },
  {
   "cell_type": "code",
   "execution_count": 9,
   "id": "3ea33f2a",
   "metadata": {},
   "outputs": [],
   "source": [
    "dss.Solution.Solve()\n",
    "dss.run_command(\"export Voltages\")\n",
    "Vthetmatrix = pd.read_csv(\"ieee34-2_EXP_VOLTAGES.csv\", encoding='CP949', error_bad_lines=False)\n",
    "_, Vm, _ = VTextract(Vthetmatrix)\n",
    "_, V2pu = checkvoltage(Vm)"
   ]
  },
  {
   "cell_type": "code",
   "execution_count": 10,
   "id": "af00741b",
   "metadata": {},
   "outputs": [],
   "source": [
    "svp, svq = Sensecalc(ena, Vm, Tm)"
   ]
  },
  {
   "cell_type": "code",
   "execution_count": 11,
   "id": "6d624d27",
   "metadata": {},
   "outputs": [],
   "source": [
    "delV = np.zeros(V2pu.shape)\n",
    "for i in range(V2pu.shape[0]):\n",
    "    if V2pu[i] > 1.05:\n",
    "        delV[i] = V2pu[i]-1.05\n",
    "    else:\n",
    "        delV[i] = 0"
   ]
  },
  {
   "cell_type": "code",
   "execution_count": 25,
   "id": "fa24b4c7",
   "metadata": {},
   "outputs": [
    {
     "data": {
      "text/plain": [
       "array([0.00000000e+00, 0.00000000e+00, 0.00000000e+00, 0.00000000e+00,\n",
       "       0.00000000e+00, 0.00000000e+00, 0.00000000e+00, 0.00000000e+00,\n",
       "       5.40630818e-05, 0.00000000e+00, 0.00000000e+00, 7.49311638e-05,\n",
       "       0.00000000e+00, 0.00000000e+00, 1.23623355e-04, 0.00000000e+00,\n",
       "       0.00000000e+00, 1.83480608e-03, 0.00000000e+00, 0.00000000e+00,\n",
       "       0.00000000e+00, 0.00000000e+00, 3.25383566e-03, 0.00000000e+00,\n",
       "       0.00000000e+00, 4.17203127e-03, 3.60584606e-02, 2.90954772e-02,\n",
       "       3.71157767e-02, 3.60584606e-02, 2.90954772e-02, 3.71157767e-02,\n",
       "       3.59123840e-02, 2.90746091e-02, 3.71227328e-02, 3.49385402e-02,\n",
       "       3.57106592e-02, 2.81633696e-02, 3.73453256e-02, 3.55089344e-02,\n",
       "       2.72729981e-02, 3.75887866e-02, 2.11447380e-02, 1.00568304e-02,\n",
       "       6.86401385e-03, 6.87096987e-03, 2.70643172e-02, 2.70643172e-02,\n",
       "       3.54950224e-02, 2.72451740e-02, 3.75957426e-02, 3.54811103e-02,\n",
       "       2.72103938e-02, 3.76096547e-02, 3.39160042e-02, 2.54087827e-02,\n",
       "       3.67749314e-02, 3.25108866e-02, 2.35445674e-02, 3.59262961e-02,\n",
       "       3.24552384e-02, 2.34541391e-02, 3.58984720e-02, 1.16324060e-01,\n",
       "       9.08580440e-02, 1.15155447e-01, 1.15725842e-01, 9.01693973e-02,\n",
       "       1.14633745e-01, 1.15162403e-01, 8.95016186e-02, 1.14139867e-01,\n",
       "       1.14501581e-01, 8.87016755e-02, 1.13548605e-01, 1.13896407e-01,\n",
       "       8.79573806e-02, 1.13047771e-01, 1.13889450e-01, 8.79295565e-02,\n",
       "       1.13047771e-01, 1.13722506e-01, 8.75539310e-02, 1.13033859e-01,\n",
       "       1.13757286e-01, 8.75747991e-02, 1.13068639e-01, 1.13799022e-01,\n",
       "       8.76095792e-02, 1.13110375e-01, 1.13882494e-01, 8.78530402e-02,\n",
       "       1.13040815e-01, 1.13896407e-01, 8.77834799e-02, 1.13033859e-01,\n",
       "       1.14390284e-01, 8.79852047e-02, 1.13492957e-01, 1.14863294e-01,\n",
       "       8.83190940e-02, 1.14021615e-01, 1.14932855e-01, 8.83677862e-02,\n",
       "       1.14098131e-01, 1.15002415e-01, 8.84373465e-02, 1.14167692e-01,\n",
       "       2.33428426e-02, 2.33567547e-02, 2.86850716e-02, 1.74719555e-02,\n",
       "       3.38673120e-02, 1.16324060e-01, 9.08580440e-02, 1.15155447e-01,\n",
       "       9.84537750e-02, 7.39427579e-02, 9.85495374e-02, 1.15155447e-01,\n",
       "       1.15155447e-01, 1.13694682e-01, 8.78043480e-02, 1.12880827e-01,\n",
       "       1.13632077e-01, 8.76860955e-02, 1.12866914e-01, 1.13625121e-01,\n",
       "       8.75956672e-02, 1.12908651e-01, 1.13722506e-01, 8.75330629e-02,\n",
       "       1.13040815e-01, 8.73452502e-02, 8.73452502e-02, 8.21408542e-02,\n",
       "       5.77089452e-02, 8.48513472e-02])"
      ]
     },
     "execution_count": 25,
     "metadata": {},
     "output_type": "execute_result"
    }
   ],
   "source": [
    "delV"
   ]
  },
  {
   "cell_type": "code",
   "execution_count": 12,
   "id": "4a07a958",
   "metadata": {},
   "outputs": [],
   "source": [
    "node3plist = []\n",
    "node3indlist = []\n",
    "for i in range(allnode.shape[0]-2):\n",
    "    if allnode[i][:4] == allnode[i+1][:4] and allnode[i][:4] == allnode[i+2][:4]:\n",
    "            node3plist.append(allnode[i][:-2])\n",
    "            node3indlist.append([i, i+1, i+2])\n",
    "node3p = np.array(node3plist)\n",
    "node3yes = np.zeros(allnode.shape, dtype=int)\n",
    "\n",
    "for i in range(node3p.shape[0]):\n",
    "    for j in range(allnode.shape[0]):\n",
    "        if node3p[i] == allnode[j][:-2]:\n",
    "            node3yes[j] = 1\n",
    "            \n",
    "node3ind = np.array(node3indlist).reshape(-1)"
   ]
  },
  {
   "cell_type": "code",
   "execution_count": 13,
   "id": "56903ed7",
   "metadata": {},
   "outputs": [],
   "source": [
    "qsensum3 = np.zeros(delV.shape[0])\n",
    "for i in range(delV.shape[0]):\n",
    "    qsensum3[i] = np.sum(np.multiply(delV, svq[:,i]))\n",
    "qsensum = qsensum3[node3ind]\n",
    "qsens = qsensum.reshape(-1,3)\n",
    "qsensavg = np.mean(qsens, axis=1)\n",
    "maxind = np.argmax(qsensavg)\n",
    "qcomp_node = node3ind[maxind*3:maxind*3+3]\n",
    "svq_comp = svq[:,qcomp_node]"
   ]
  },
  {
   "cell_type": "code",
   "execution_count": 14,
   "id": "719b1bdf",
   "metadata": {},
   "outputs": [],
   "source": [
    "if np.mean(Vm[qcomp_node])>50000:\n",
    "    CbasekV = 69\n",
    "elif np.mean(Vm[qcomp_node])>15000:\n",
    "    CbasekV = 24.9\n",
    "else:\n",
    "    CbasekV = 4.16"
   ]
  },
  {
   "cell_type": "code",
   "execution_count": 15,
   "id": "b7222565",
   "metadata": {},
   "outputs": [
    {
     "name": "stdout",
     "output_type": "stream",
     "text": [
      "New Capacitor.Cap1  Bus1=840 Phases=3 kVAR=0 kV=24.9\n"
     ]
    },
    {
     "data": {
      "text/plain": [
       "''"
      ]
     },
     "execution_count": 15,
     "metadata": {},
     "output_type": "execute_result"
    }
   ],
   "source": [
    "cap_text = \"New Capacitor.Cap1  Bus1=\"+allnode[qcomp_node][0][:-2]+\" Phases=3 kVAR=\"+str(0)+\" kV=\"+str(CbasekV)\n",
    "print(cap_text)\n",
    "dss.run_command(cap_text)"
   ]
  },
  {
   "cell_type": "code",
   "execution_count": 20,
   "id": "360c5fb6",
   "metadata": {},
   "outputs": [],
   "source": [
    "LB = 0\n",
    "UB = sum(pv_size)*2\n",
    "N = 4"
   ]
  },
  {
   "cell_type": "code",
   "execution_count": 21,
   "id": "fdeedb66",
   "metadata": {},
   "outputs": [
    {
     "data": {
      "text/plain": [
       "array([ 750., 1500., 2250., 3000.])"
      ]
     },
     "execution_count": 21,
     "metadata": {},
     "output_type": "execute_result"
    }
   ],
   "source": [
    "X = np.zeros(N)\n",
    "for i in range(N):\n",
    "    X[i] = np.around((UB-LB)/N*(i+1))\n",
    "X"
   ]
  },
  {
   "cell_type": "code",
   "execution_count": 22,
   "id": "4f7a0666",
   "metadata": {},
   "outputs": [],
   "source": [
    "def cap_change(capsize):\n",
    "    cap_change_text = \"Capacitor.cap1.kvar=-\"+str(capsize)\n",
    "    dss.run_command(cap_change_text)\n",
    "    #print(dss.utils.capacitors_to_dataframe())\n",
    "    dss.Solution.Solve()\n",
    "    dss.run_command(\"export Voltages\")\n",
    "    Vthetmatrix = pd.read_csv(\"ieee34-2_EXP_VOLTAGES.csv\", encoding='CP949', error_bad_lines=False)\n",
    "    _, Vm, _ = VTextract(Vthetmatrix)\n",
    "    _, V2pu = checkvoltage(Vm)\n",
    "    return Vm, V2pu\n",
    "\n",
    "def capablecapfind(X):\n",
    "    regcapable = np.zeros(N, dtype=int)\n",
    "    for i in range(N):\n",
    "        Vm, V2pu = cap_change(X[i])\n",
    "        Violation,_ = checkvoltage(Vm)\n",
    "        if sum(Violation) == 0:\n",
    "            regcapable[i] = 1\n",
    "    return regcapable\n",
    "\n",
    "def caprefind(regcapable, X, LB, UB):\n",
    "    k=N-1\n",
    "    for i in range(N-1):\n",
    "        if regcapable[i] == 0 and regcapable[i+1] == 1:\n",
    "            k=i\n",
    "    if k==0:\n",
    "        UB = X[k]\n",
    "    elif k==N-1:\n",
    "        LB = X[k]\n",
    "    else:\n",
    "        LB = X[k]\n",
    "        UB = X[k+1]\n",
    "    for i in range(N):\n",
    "        X[i] = (UB-LB)/N*(i+1)+LB\n",
    "    \n",
    "    X = np.around(X)\n",
    "    print(LB, UB, X)\n",
    "    return X, LB, UB"
   ]
  },
  {
   "cell_type": "code",
   "execution_count": 23,
   "id": "0d944885",
   "metadata": {},
   "outputs": [
    {
     "name": "stdout",
     "output_type": "stream",
     "text": [
      "1500.0 2250.0 [1688. 1875. 2062. 2250.]\n",
      "1500.0 1688.0 [1547. 1594. 1641. 1688.]\n",
      "1688.0 1688.0 [1688. 1688. 1688. 1688.]\n",
      "[1688. 1688. 1688. 1688.]\n"
     ]
    }
   ],
   "source": [
    "while(1):\n",
    "    regcapable = capablecapfind(X)\n",
    "    X, LB, UB = caprefind(regcapable, X, LB, UB)\n",
    "    if X[0]==X[-1]:\n",
    "        break\n",
    "print(X)"
   ]
  },
  {
   "cell_type": "code",
   "execution_count": null,
   "id": "0697be53",
   "metadata": {},
   "outputs": [],
   "source": []
  }
 ],
 "metadata": {
  "kernelspec": {
   "display_name": "Python 3",
   "language": "python",
   "name": "python3"
  },
  "language_info": {
   "codemirror_mode": {
    "name": "ipython",
    "version": 3
   },
   "file_extension": ".py",
   "mimetype": "text/x-python",
   "name": "python",
   "nbconvert_exporter": "python",
   "pygments_lexer": "ipython3",
   "version": "3.8.16"
  }
 },
 "nbformat": 4,
 "nbformat_minor": 5
}
